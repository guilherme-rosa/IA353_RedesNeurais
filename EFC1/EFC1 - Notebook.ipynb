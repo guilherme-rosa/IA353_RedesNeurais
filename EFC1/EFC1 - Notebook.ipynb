{
 "cells": [
  {
   "cell_type": "markdown",
   "metadata": {},
   "source": [
    "# Exercícios de Fixação de Conceitos 1\n",
    "\n",
    "### Índice\n",
    "- [Definição do problema de classificação](#definicao_problema)\n",
    "- [*Dataset*: consideraçõs e análise](#dataset_consideracoes_analise)\n",
    "    - [Estrutura do *dataset*](#estrutura_dataset)\n",
    "    - [Distribuição de frequências em função das classes (Histograma)](#dist_frequencias_histograma)\n",
    "    - [Visualização de imagens de dígitos manuscritos](#visualizacao_imagens)\n",
    "- [Conjuntos de treinamento e validação](#conjunto_treinamento_validacao)\n",
    "    - [Validação cruzada](#validacao_cruzada)\n",
    "    - [Dados balanceados e representativos](#dados_balanceados_representativos)\n",
    "- [Classificador Linear](#modelo_linear)\n",
    "    - [Modelo linear regularizado](#modelo_linear_regularizado)\n",
    "    - Parâmetros de desempenho\n",
    "        - Erro quadrático médio\n",
    "        - Erro de classificação\n",
    "- Resolução do problema\n",
    "    - Algoritmo de resolução\n",
    "- Resultados\n",
    "    - Gráficos semilog do desempenho dos classificadores junto aos dados de validação para os 11 valores de coeficientes de regularização sugeridos\n",
    "        - Desempenho baseado no erro quadrático médio\n",
    "        - Desempenho baseado no erro de classificação\n",
    "    - Gráficos semilog com uma busca refinida no entorno do mínimo dos gráficos anteriores\n",
    "        - Desempenho baseado no erro quadrático médio\n",
    "        - Desempenho baseado no erro de classificação\n",
    "    - Valores dos 4 coeficientes de regularização encontrados na busca\n",
    "    - Para o melhor classificador considerando o desempenho baseado no erro de classificação:\n",
    "        - Obter a matriz de parâmetros do modelo\n",
    "        - Gerar um gráfico de calor para cada um dos 10 classificadores lineares contidos no modelo\n",
    "        - Matriz de confusão\n",
    "        - Exemplos de dígitos classificados incorretamente"
   ]
  },
  {
   "cell_type": "code",
   "execution_count": 1,
   "metadata": {},
   "outputs": [],
   "source": [
    "import scipy.io\n",
    "import numpy as np\n",
    "import matplotlib.pyplot as plt\n",
    "import seaborn as sns\n",
    "import random as rn\n",
    "from sklearn.model_selection import train_test_split"
   ]
  },
  {
   "cell_type": "code",
   "execution_count": 2,
   "metadata": {},
   "outputs": [],
   "source": [
    "def onehot_to_categorical(y_onehot):\n",
    "    aux = y_onehot.argmax()\n",
    "    if aux < 9:\n",
    "        return aux + 1\n",
    "    else:\n",
    "        return 0"
   ]
  },
  {
   "cell_type": "code",
   "execution_count": 3,
   "metadata": {},
   "outputs": [],
   "source": [
    "def plot_hist(y_categorical, titleText, ymax, step):\n",
    "    plt.figure(figsize=(8,4))\n",
    "    \n",
    "    plt.xlabel('Classes')\n",
    "    plt.ylabel('Frequência')\n",
    "    plt.xticks(range(0,10))\n",
    "    plt.yticks(range(0, ymax, step))\n",
    "\n",
    "    plt.title(titleText)\n",
    "    #plt.grid(True, axis='y')\n",
    "\n",
    "    a = plt.hist(y_categorical, range=(-0.5, 9.5), bins=20, align='left', color='royalblue');\n",
    "    return a"
   ]
  },
  {
   "cell_type": "code",
   "execution_count": 4,
   "metadata": {},
   "outputs": [],
   "source": [
    "def plot_digit_images(X, Y_categorical, titlesText, Nimgs=5):\n",
    "    plt.figure(figsize=(15,4))\n",
    "    i = rn.randint(0, X.shape[0])\n",
    "\n",
    "    for index, (image, label) in enumerate(zip(X[i:i+Nimgs], Y_categorical[i:i+Nimgs])):\n",
    "        plt.subplot(1, Nimgs, index + 1)\n",
    "        X_image = np.transpose(np.reshape(image, (28, 28)))\n",
    "        plt.imshow(X_image, cmap='gray')\n",
    "        plt.title(titlesText + f'{label}\\n', fontsize = 12)"
   ]
  },
  {
   "cell_type": "code",
   "execution_count": 5,
   "metadata": {},
   "outputs": [],
   "source": [
    "path = '../EFC1/dataset/'\n",
    "\n",
    "data = scipy.io.loadmat(path + 'data.mat')\n",
    "test = scipy.io.loadmat(path + 'test.mat')\n",
    "\n",
    "X = data['X'] \n",
    "Y = data['S'] \n",
    "\n",
    "Xtest = test['Xt']\n",
    "Ytest = test['St']\n",
    "\n",
    "Y_categorical = np.array(tuple(map(onehot_to_categorical, Y)))\n",
    "Ytest_categorical = np.array(tuple(map(onehot_to_categorical, Ytest)))"
   ]
  },
  {
   "cell_type": "markdown",
   "metadata": {},
   "source": [
    "-------------------------------------------------------------\n",
    "<a id=\"definicao_problema\"></a>\n",
    "### Definição do problema\n",
    "\n",
    "- O objetivo deste exercício consiste em sintetizar modelos lineares para classificação de padrões.\n",
    "- É utilizado o famoso *dataset* de imagens de dígitos manuscritos [MNIST](http://yann.lecun.com/exdb/mnist/), o qual contém 60.000 amostras para treinamento e 10.000 amostras para teste.\n",
    "- Cada imagem de entrada contém 784 pixels (no intervalo [0, 255], correspondente a níveis de cinza), visto que a dimensão de cada uma delas é de 28x28 pixels.\n",
    "- O problema de classificação investigado é do tipo multi-classe (10 classes), sendo que cada classe representa um dígito de 0 a 9."
   ]
  },
  {
   "cell_type": "markdown",
   "metadata": {},
   "source": [
    "-----------------------------------------------------------------\n",
    "<a id=\"dataset_consideracoes_analise\"></a>\n",
    "### *Dataset*: Considerações e Análise"
   ]
  },
  {
   "cell_type": "markdown",
   "metadata": {},
   "source": [
    "<a id=\"estrutura_dataset\"></a>\n",
    "- **Estrutura do** ***dataset*** **:**\n",
    "    - Os dados de treinamento estão contidos nas matrizes X (entradas) e Y (saídas).\n",
    "    \n",
    "    - Matriz X:\n",
    "        - Cada linha representa uma amostra de entrada (imagem).\n",
    "        - Cada coluna contém um pixel da amostra de entrada.\n",
    "        - A dimensão da matriz X é de 60.000x784 (Temos 60.000 amostras cada uma com 784 pixels).\n",
    "        \n",
    "    - Matriz Y:\n",
    "        - Cada linha representa a saída verdadeira correspondente a uma amostra de entrada.\n",
    "        - Cada saída está na representação *one-hot encoding*, isto é, só existe um elemento não nulo responsável por indicar a classe a qual a amostra pertence.\n",
    "        - Cada coluna representa uma classe:\n",
    "            - Colunas 0 a 8 representam as classes referentes aos dígitos 1 a 9, respectivamente.\n",
    "            - Coluna 9 representa a classe referente ao dígito 0.\n",
    "    \n",
    "    - As matrizes Xtest e Ytest do conjunto de teste possuem as mesmas características acima\n",
    "        - A dimensão da matriz Xtest é de 10.000x784 (Temos 10.000 amostras cada uma com 784 pixels\n",
    "        - A dimensão da matriz Ytest é de 10.000x10."
   ]
  },
  {
   "cell_type": "code",
   "execution_count": 6,
   "metadata": {},
   "outputs": [
    {
     "name": "stdout",
     "output_type": "stream",
     "text": [
      "Dimensão da matriz X: (60000, 784)\n",
      "Dimensão da matriz Y: (60000, 10)\n",
      "--------------------------------------\n",
      "Dimensão da matriz Xtest: (10000, 784)\n",
      "Dimensão da matriz Ytest: (10000, 10)\n"
     ]
    }
   ],
   "source": [
    "print(f'Dimensão da matriz X: {X.shape}')\n",
    "print(f'Dimensão da matriz Y: {Y.shape}')\n",
    "print('--------------------------------------')\n",
    "print(f'Dimensão da matriz Xtest: {Xtest.shape}')\n",
    "print(f'Dimensão da matriz Ytest: {Ytest.shape}')"
   ]
  },
  {
   "cell_type": "code",
   "execution_count": 7,
   "metadata": {},
   "outputs": [
    {
     "name": "stdout",
     "output_type": "stream",
     "text": [
      "Exemplo do conjunto de treinamento:\n",
      "Saída na representação one-hot encoding: [0 0 0 1 0 0 0 0 0 0]\n",
      "Saída na representação categórica: 4\n",
      "--------------------------------------------------------------\n",
      "Exemplo do conjunto de teste:\n",
      "Saída na representação one-hot encoding: [0 0 1 0 0 0 0 0 0 0]\n",
      "Saída na representação categórica: 3\n"
     ]
    }
   ],
   "source": [
    "n1 = rn.randint(0, Y.shape[0])\n",
    "n2 = rn.randint(0, Ytest.shape[0])\n",
    "\n",
    "print('Exemplo do conjunto de treinamento:')\n",
    "print(f'Saída na representação one-hot encoding: {Y[n1]}')\n",
    "print(f'Saída na representação categórica: {Y_categorical[n1]}')\n",
    "\n",
    "print('--------------------------------------------------------------')\n",
    "\n",
    "print('Exemplo do conjunto de teste:')\n",
    "print(f'Saída na representação one-hot encoding: {Ytest[n2]}')\n",
    "print(f'Saída na representação categórica: {Ytest_categorical[n2]}')"
   ]
  },
  {
   "cell_type": "markdown",
   "metadata": {},
   "source": [
    "<a id=\"dist_frequencias_histograma\"></a>\n",
    "- **Distribuição de frequências em função das classes (Histograma)**"
   ]
  },
  {
   "cell_type": "code",
   "execution_count": 8,
   "metadata": {},
   "outputs": [
    {
     "data": {
      "image/png": "[encoded data removed]",
      "text/plain": [
       "<Figure size 576x288 with 1 Axes>"
      ]
     },
     "metadata": {
      "needs_background": "light"
     },
     "output_type": "display_data"
    },
    {
     "data": {
      "image/png": "[encoded data removed]",
      "text/plain": [
       "<Figure size 576x288 with 1 Axes>"
      ]
     },
     "metadata": {
      "needs_background": "light"
     },
     "output_type": "display_data"
    }
   ],
   "source": [
    "plot_hist(Y_categorical, titleText='Distribuição de frequências para os dados de treinamento', ymax=10000, step=1000);\n",
    "plot_hist(Ytest_categorical, titleText='Distribuição de frequências para os dados de teste', ymax=1200, step=100);"
   ]
  },
  {
   "cell_type": "markdown",
   "metadata": {},
   "source": [
    "<a id=\"visualizacao_imagens\"></a>\n",
    "- **Visualização de imagens de dígitos manuscritos**"
   ]
  },
  {
   "cell_type": "code",
   "execution_count": 9,
   "metadata": {},
   "outputs": [
    {
     "data": {
      "image/png": "[encoded data removed]",
      "text/plain": [
       "<Figure size 1080x288 with 5 Axes>"
      ]
     },
     "metadata": {
      "needs_background": "light"
     },
     "output_type": "display_data"
    },
    {
     "data": {
      "image/png": "[encoded data removed]",
      "text/plain": [
       "<Figure size 1080x288 with 5 Axes>"
      ]
     },
     "metadata": {
      "needs_background": "light"
     },
     "output_type": "display_data"
    }
   ],
   "source": [
    "plot_digit_images(X, Y_categorical, titlesText='Dado de treinamento: ', Nimgs=5)\n",
    "plot_digit_images(Xtest, Ytest_categorical, titlesText='Dado de teste: ', Nimgs=5)"
   ]
  },
  {
   "cell_type": "markdown",
   "metadata": {},
   "source": [
    "-----------------------------------------------------------------\n",
    "<a id=\"conjunto_treinamento_validacao\"></a>\n",
    "### Conjuntos de treinamento e validação"
   ]
  },
  {
   "cell_type": "markdown",
   "metadata": {},
   "source": [
    "<a id=\"validacao_cruzada\"></a>\n",
    "- **Validação cruzada**\n",
    "    - Para aumentar a **capacidade de generalização** do modelo, é utilizado a estratégia de validação cruzada conhecida por ***holdout***, em que dividimos as amostras de treinamento da seguinte forma:\n",
    "        - Conjunto de treinamento: 80% das amostras são utilizadas para treinar o modelo, de modo a produzir um classificador.\n",
    "        - Conjunto de validação: 20% das amostras são utilizadas para validar o modelo gerado, isto é, são utilizadas na etapa de análise de desempenho."
   ]
  },
  {
   "cell_type": "code",
   "execution_count": 10,
   "metadata": {},
   "outputs": [],
   "source": [
    "Xtrain, Xval, Ytrain, Yval = train_test_split(X, Y, test_size=0.2, random_state=42)"
   ]
  },
  {
   "cell_type": "code",
   "execution_count": 11,
   "metadata": {},
   "outputs": [
    {
     "name": "stdout",
     "output_type": "stream",
     "text": [
      "Dimensão da matriz Xtrain: (48000, 784)\n",
      "Dimensão da matriz Ytrain: (48000, 10)\n",
      "--------------------------------------\n",
      "Dimensão da matriz Xval: (12000, 784)\n",
      "Dimensão da matriz Yval: (12000, 10)\n"
     ]
    }
   ],
   "source": [
    "print(f'Dimensão da matriz Xtrain: {Xtrain.shape}')\n",
    "print(f'Dimensão da matriz Ytrain: {Ytrain.shape}')\n",
    "print('--------------------------------------')\n",
    "print(f'Dimensão da matriz Xval: {Xval.shape}')\n",
    "print(f'Dimensão da matriz Yval: {Yval.shape}')"
   ]
  },
  {
   "cell_type": "markdown",
   "metadata": {},
   "source": [
    "<a id=\"dados_balanceados_representativos\"></a>\n",
    "- **Dados balanceados e representativos**\n",
    "    - Uma importante característica que devemos manter nos dois novos conjuntos é o **balanceamento das classes**, para que os dados utilizados tanto no conjunto de treinamento quanto no de validação sejam **representativos** do problema. Para isso, podemos observar as distribuições de frequência dos dois conjuntos.\n",
    "    - Como pode ser observado nos resultados abaixo, a proporção de dados por classe em ambos os conjuntos está em um valor adequado."
   ]
  },
  {
   "cell_type": "code",
   "execution_count": 12,
   "metadata": {},
   "outputs": [],
   "source": [
    "Ytrain_categorical = np.array(tuple(map(onehot_to_categorical, Ytrain)))\n",
    "Yval_categorical = np.array(tuple(map(onehot_to_categorical, Yval)))"
   ]
  },
  {
   "cell_type": "code",
   "execution_count": 13,
   "metadata": {},
   "outputs": [
    {
     "name": "stdout",
     "output_type": "stream",
     "text": [
      "Representação das classes no conjunto de treinamento:\n",
      "Classe 0:  9.89%\n",
      "Classe 1:  11.29%\n",
      "Classe 2:  9.97%\n",
      "Classe 3:  10.23%\n",
      "Classe 4:  9.72%\n",
      "Classe 5:  8.99%\n",
      "Classe 6:  9.88%\n",
      "Classe 7:  10.35%\n",
      "Classe 8:  9.77%\n",
      "Classe 9:  9.91%\n"
     ]
    },
    {
     "data": {
      "image/png": "[encoded data removed]",
      "text/plain": [
       "<Figure size 576x288 with 1 Axes>"
      ]
     },
     "metadata": {
      "needs_background": "light"
     },
     "output_type": "display_data"
    }
   ],
   "source": [
    "aux_train = plot_hist(Ytrain_categorical, titleText='Distribuição de frequências para os dados de treinamento', ymax=10000, step=1000)\n",
    "\n",
    "aux = aux_train[0]\n",
    "aux = aux[1:len(aux):2]\n",
    "aux = aux*100/Xtrain.shape[0]\n",
    "print('Representação das classes no conjunto de treinamento:')\n",
    "for i in range(len(aux)):\n",
    "    print(f'Classe {i}:  {round(aux[i],2)}%')"
   ]
  },
  {
   "cell_type": "code",
   "execution_count": 14,
   "metadata": {},
   "outputs": [
    {
     "name": "stdout",
     "output_type": "stream",
     "text": [
      "Representação das classes no conjunto de treinamento:\n",
      "Classe 0:  9.79%\n",
      "Classe 1:  11.02%\n",
      "Classe 2:  9.78%\n",
      "Classe 3:  10.16%\n",
      "Classe 4:  9.8%\n",
      "Classe 5:  9.2%\n",
      "Classe 6:  9.81%\n",
      "Classe 7:  10.82%\n",
      "Classe 8:  9.67%\n",
      "Classe 9:  9.95%\n"
     ]
    },
    {
     "data": {
      "image/png": "[encoded data removed]",
      "text/plain": [
       "<Figure size 576x288 with 1 Axes>"
      ]
     },
     "metadata": {
      "needs_background": "light"
     },
     "output_type": "display_data"
    }
   ],
   "source": [
    "aux_val = plot_hist(Yval_categorical, titleText='Distribuição de frequências para os dados de validação', ymax=1500, step=100);\n",
    "\n",
    "aux = aux_val[0]\n",
    "aux = aux[1:len(aux):2]\n",
    "aux = aux*100/Xval.shape[0]\n",
    "print('Representação das classes no conjunto de treinamento:')\n",
    "for i in range(len(aux)):\n",
    "    print(f'Classe {i}:  {round(aux[i],2)}%', )"
   ]
  },
  {
   "cell_type": "markdown",
   "metadata": {},
   "source": [
    "-----------------------------------------------------------------\n",
    "<a id=\"modelo_linear\"></a>\n",
    "### Classificador Linear\n",
    "\n",
    "- Nesta atividade utilizaremos o modelo de regressão linear para múltiplas saídas para o problema de classificação investigado.\n",
    "- Neste modelo, cada saída é dada pela combinação linear entre seus parâmetros ajustáveis e os atributos dos dados de entrada.\n",
    "- Considerando todos os N dados de treinamento, o modelo é dado por:\n",
    "\n",
    "&nbsp;\n",
    "$$\\begin{bmatrix} \n",
    "\\hat{y}_0(\\textbf{x}(0)) & \\hat{y}_1(\\textbf{x}(0)) & \\ldots & \\hat{y}_{L-1}(\\textbf{x}(0)) \\\\\n",
    "\\hat{y}_0(\\textbf{x}(1)) & \\hat{y}_1(\\textbf{x}(1)) & \\ldots & \\hat{y}_{L-1}(\\textbf{x}(1)) \\\\\n",
    "\\vdots & \\vdots & \\ddots & \\vdots \\\\\n",
    "\\hat{y}_0(\\textbf{x}(N-1)) & \\hat{y}_1(\\textbf{x}(N-1)) & \\ldots & \\hat{y}_{L-1}(\\textbf{x}(N-1)) \n",
    "\\end{bmatrix}_{NxL}\n",
    "= \n",
    "\\begin{bmatrix} \n",
    "1 & x_1(0) & ... & x_K(0) \\\\\n",
    "1 & x_1(1) & ... & x_K(1) \\\\\n",
    "\\vdots & \\vdots & \\ddots & \\vdots \\\\\n",
    "1 & x_1(N-1) & ... & x_K(N-1) \\\\\n",
    "\\end{bmatrix}_{NxK+1} \n",
    "\\begin{bmatrix} w_0^{(0)} & w_0^{(1)} & \\ldots & w_0^{(L-1)} \\\\ \n",
    "w_1^{(0)} & w_1^{(1)} & \\ldots & w_1^{(L-1)} \\\\ \n",
    "\\vdots & \\vdots & \\ddots & \\vdots \\\\ \n",
    "w_K^{(0)} & w_K^{(1)} & ... & w_K^{(L-1)}\n",
    "\\end{bmatrix}_{K+1xL}$$\n",
    "&nbsp;\n",
    "\n",
    "em que as matrizes acima são, respectivamente, $\\hat{Y}$, $\\Phi$ e $W$. Desta forma, temos:\n",
    "\n",
    "&nbsp;\n",
    "$$ \\hat{Y} = \\Phi\\textbf{W} $$\n",
    "&nbsp;\n",
    "\n",
    "- Observações:\n",
    "    - Cada linha das matrizes $\\hat{Y}$ e $\\Phi$ contém as L saídas e os K atributos de uma amostra.\n",
    "    - A primeira coluna da matriz $\\Phi$ é referente ao termo de bias do modelo.\n",
    "    - Cada coluna da matriz $W$, o qual contém os parâmetros ajustáveis do modelo, representa um classificador referente a cada uma das classes.\n",
    "    - Há ainda a matriz de saídas desejadas $Y$ da forma:\n",
    "$$\n",
    "\\textbf{Y}\n",
    "=\n",
    "\\begin{bmatrix} \n",
    "y_0(\\textbf{x}(0)) & y_1(\\textbf{x}(0)) & \\ldots & y_{L-1}(\\textbf{x}(0)) \\\\\n",
    "y_0(\\textbf{x}(1)) & y_1(\\textbf{x}(1)) & \\ldots & y_{L-1}(\\textbf{x}(1)) \\\\\n",
    "\\vdots & \\vdots & \\ddots & \\vdots \\\\\n",
    "y_0(\\textbf{x}(N-1)) & y_1(\\textbf{x}(N-1)) & \\ldots & y_{L-1}(\\textbf{x}(N-1)) \n",
    "\\end{bmatrix}_{NxL}\n",
    "$$\n",
    "&nbsp;\n",
    "\n",
    "- Nosso objetivo é obter um modelo de modo que as saídas estimadas sejam mais próximas possíveis das saídas desejadas. \n",
    "- A maneira usual, para o modelo de regressão linear, de expressar matematicamente esse objetivo consiste em utilizar o Critério de Quadrados Mínimos.\n",
    "$$ min \\; J_e(\\textbf{W})$$\n",
    "&nbsp;\n",
    "- O problema se resume em minimizar o erro quadrático médio $J_e(\\textbf{W})$ entre as saídas desejadas e estimadas.\n",
    "$$J_e(\\textbf{W}) = \\frac{1}{NL}\\sum_{i=0}^{N-1}\\sum_{k=0}^{L-1}[y_k(i)-\\hat{y}_k(i)]^2$$\n",
    "&nbsp;\n",
    "\n",
    "- Se $N > K+1$ e a matriz $\\Phi$ tiver posto completo, a solução do problema de otimização é:\n",
    "$$ \\textbf{W} = (\\Phi^T\\Phi)^{-1}\\Phi^T\\textbf{Y}$$"
   ]
  },
  {
   "cell_type": "markdown",
   "metadata": {},
   "source": [
    "<a id=\"modelo_linear_regularizado\"></a>\n",
    "- **Modelo Linear Regularizado**\n",
    "    - Em nosso problema, $N > K+1$ e a matriz $\\Phi$ não tem posto completo. Como consequência, o problema de otimização apresentado anteriormente não tem solução factível pois o termo $\\Phi^T\\Phi$ não admite inversa.\n",
    "    - Para resolver esse problema, utilizamos a técnica de regularização *Ridge Regression*, em que aplicamos um termo de penalização proporcional à norma da matriz de parâmetros. Assim, o problema de otimização e sua solução são da seguinte forma:\n",
    "$$ \n",
    "min \\; J_e(\\textbf{W})-\\lambda\\parallel\\textbf{W}\\parallel\n",
    "$$\n",
    "&nbsp;\n",
    "$$\n",
    "\\textbf{W} = (\\Phi^T\\Phi+\\lambda \\textbf{I'})^{-1}\\Phi^T\\textbf{Y}\n",
    "$$\n",
    "    onde $\\lambda>0$ é o coeficiente de regularização e \n",
    "\n",
    "$$\n",
    "\\textbf{I'}\n",
    "=\n",
    "\\begin{bmatrix} \n",
    "0 & 0 & \\ldots & 0 \\\\\n",
    "0 & 1 & \\ldots & 0 \\\\\n",
    "\\vdots & \\vdots & \\ddots & \\vdots \\\\\n",
    "0 & 0 & \\ldots & 1\n",
    "\\end{bmatrix}_{NxL}\n",
    "$$"
   ]
  },
  {
   "cell_type": "code",
   "execution_count": 15,
   "metadata": {},
   "outputs": [],
   "source": [
    "class LinearClassifier():\n",
    "    \n",
    "    def __init__(self, Xtrain, Ytrain, Xpred, Ypred):\n",
    "        self.Xt = Xtrain\n",
    "        self.Yt = Ytrain\n",
    "        self.Xp = Xpred\n",
    "        self.Yp = Ypred\n",
    "        [self.Nt, self.K] = Xtrain.shape\n",
    "        self.Np = Xpred.shape[0]\n",
    "\n",
    "        # variáveis de treinamento:\n",
    "        self.Im = np.insert(np.insert(np.eye(self.K), 0, np.zeros([1, self.K]), axis=0), 0, np.zeros([1, self.K+1]), axis=1)\n",
    "        self.Phi_t = np.insert(self.Xt, 0, np.ones([1, self.Nt]), axis=1)\n",
    "        self.W = None\n",
    "        \n",
    "        # variáveis de predição\n",
    "        self.Phi_p = np.insert(self.Xp, 0, np.ones([1, self.Np]), axis=1)\n",
    "        self.Yest = None  # saídas estimadas na predição\n",
    "        self.Yest_onehot = None # saídas estimadas na predição dadas na representação one-hot encoding\n",
    "    \n",
    "    def fit(self, coefReg):\n",
    "        self.W = np.linalg.inv(np.transpose(self.Phi_t).dot(self.Phi_t) + coefReg*self.Im).dot(np.transpose(self.Phi_t).dot(self.Yt))\n",
    "    \n",
    "    def predict(self):\n",
    "        self.Yest = self.Phi_p.dot(self.W)\n",
    "        LinearClassifier.onehotencoding(self)\n",
    "        \n",
    "    def onehotencoding(self):\n",
    "        # Cria uma matriz de saídas estimadas na representação one-hot encoding:\n",
    "        self.Yest_onehot = self.Yest.copy()\n",
    "        for i in range(0, self.Yest_onehot.shape[0]):   \n",
    "            np.place(self.Yest_onehot[i], self.Yest_onehot[i] < np.max(self.Yest_onehot[i]), 0)\n",
    "            np.place(self.Yest_onehot[i], self.Yest_onehot[i] == np.max(self.Yest_onehot[i]), 1)\n"
   ]
  },
  {
   "cell_type": "markdown",
   "metadata": {},
   "source": [
    "<a id=\"param_desempenho\"></a>\n",
    "- **Parâmetros de desempenho**"
   ]
  },
  {
   "cell_type": "code",
   "execution_count": 16,
   "metadata": {},
   "outputs": [],
   "source": [
    "class Metrics():\n",
    "    \n",
    "    def __init__(self, Y, Yest, Yest_onehot):\n",
    "        self.Y = Y\n",
    "        self.Yest = Yest\n",
    "        self.Yest_onehot = Yest_onehot\n",
    "        \n",
    "        self.MSE = None\n",
    "        self.CE = None\n",
    "    \n",
    "    def meansquared_error(self):\n",
    "        e = (self.Y - self.Yest)**2\n",
    "        self.MSE = np.sum(np.sum(e, axis=1), axis=0) # / (N*L), onde [N, L] = self.Yval.shape\n",
    "        return self.MSE\n",
    "    \n",
    "    def classification_error(self):\n",
    "        matches = []\n",
    "        \n",
    "        for i in range(0, self.Y.shape[0]):\n",
    "            matches.append(np.array_equal(self.Y[i], self.Yest_onehot[i]))\n",
    "        \n",
    "        score = matches.count(True)\n",
    "        err = self.Y.shape[0] - score\n",
    "        self.CE = err/(err + score)\n",
    "        return self.CE"
   ]
  },
  {
   "cell_type": "markdown",
   "metadata": {},
   "source": [
    "-----------------------------------------------------------------\n",
    "<a id=\"resolucao\"></a>\n",
    "### Resolução do problema"
   ]
  },
  {
   "cell_type": "code",
   "execution_count": null,
   "metadata": {},
   "outputs": [],
   "source": [
    "classificador = LinearClassifier(Xtrain, Ytrain, Xval, Yval)\n",
    "lista = range(-10, 21, 2)\n",
    "coefs = [2**exp for exp in lista]\n",
    "ms_errors = []\n",
    "classification_errors = []\n",
    "\n",
    "for coef in coefs:\n",
    "    classificador.fit(coef)\n",
    "    classificador.predict()\n",
    "    \n",
    "    desempenho = Metrics(Yval, classificador.Yest, classificador.Yest_onehot)\n",
    "    \n",
    "    ms_errors.append(desempenho.meansquared_error())\n",
    "    classification_errors.append(desempenho.classification_error())"
   ]
  },
  {
   "cell_type": "code",
   "execution_count": null,
   "metadata": {},
   "outputs": [],
   "source": [
    "plt.figure(figsize=(10,5))\n",
    "plt.semilogx(coefs[0:25], ms_errors[0:25])\n",
    "plt.grid(True, which=\"both\")\n",
    "plt.show()"
   ]
  },
  {
   "cell_type": "code",
   "execution_count": null,
   "metadata": {},
   "outputs": [],
   "source": [
    "plt.figure(figsize=(10,8))\n",
    "plt.semilogx(coefs, [1-erro for erro in classification_errors])\n",
    "plt.grid(True, which=\"both\")\n",
    "plt.show()"
   ]
  }
 ],
 "metadata": {
  "kernelspec": {
   "display_name": "Python 3",
   "language": "python",
   "name": "python3"
  },
  "language_info": {
   "codemirror_mode": {
    "name": "ipython",
    "version": 3
   },
   "file_extension": ".py",
   "mimetype": "text/x-python",
   "name": "python",
   "nbconvert_exporter": "python",
   "pygments_lexer": "ipython3",
   "version": "3.8.1"
  }
 },
 "nbformat": 4,
 "nbformat_minor": 4
}
