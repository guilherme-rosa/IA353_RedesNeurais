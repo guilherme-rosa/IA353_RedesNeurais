{
 "cells": [
  {
   "cell_type": "markdown",
   "metadata": {},
   "source": [
    "# Exercícios de Fixação de Conceitos 1\n",
    "\n",
    "### Índice\n",
    "- Definição do problema de classificação</p>\n",
    "- *Dataset*: consideraçõs e análise</p>\n",
    "    - Estrutura do *dataset*\n",
    "    - Distribuição de frequências em função das classes (Histograma)\n",
    "    - Visualização de imagens de dígitos manuscritos\n",
    "- Conjuntos de treinamento e validação\n",
    "- Classificador Linear\n",
    "    - Modelo regularizado\n",
    "    - Cálculo do erro quadrático médio\n",
    "    - Cálculo do erro de classificação\n",
    "    - Algoritmo para resolução do problema\n",
    "- Resultados\n",
    "    - Gráficos semilog do desempenho dos classificadores junto aos dados de validação para os 11 valores de coeficientes de regularização sugeridos\n",
    "        - Desempenho baseado no erro quadrático médio\n",
    "        - Desempenho baseado no erro de classificação\n",
    "    - Gráficos semilog com uma busca refinida no entorno do mínimo dos gráficos anteriores\n",
    "        - Desempenho baseado no erro quadrático médio\n",
    "        - Desempenho baseado no erro de classificação\n",
    "    - Valores dos 4 coeficientes de regularização encontrados na busca\n",
    "    - Para o melhor classificador considerando o desempenho baseado no erro de classificação:\n",
    "        - Obter a matriz de parâmetros do modelo\n",
    "        - Gerar um gráfico de calor para cada um dos 10 classificadores lineares contidos no modelo\n",
    "        - Matriz de confusão\n",
    "        - Exemplos de dígitos classificados incorretamente"
   ]
  },
  {
   "cell_type": "code",
   "execution_count": 1,
   "metadata": {},
   "outputs": [],
   "source": [
    "import scipy.io\n",
    "import numpy as np\n",
    "import matplotlib.pyplot as plt\n",
    "import seaborn as sns\n",
    "import random as rn\n",
    "from sklearn.model_selection import train_test_split"
   ]
  },
  {
   "cell_type": "code",
   "execution_count": 2,
   "metadata": {},
   "outputs": [],
   "source": [
    "def onehot_to_categorical(y_onehot):\n",
    "    aux = y_onehot.argmax()\n",
    "    if aux < 9:\n",
    "        return aux + 1\n",
    "    else:\n",
    "        return 0"
   ]
  },
  {
   "cell_type": "code",
   "execution_count": 3,
   "metadata": {},
   "outputs": [],
   "source": [
    "def plot_hist(y_categorical, titleText, ymax, step):\n",
    "    plt.figure(figsize=(8,4))\n",
    "    \n",
    "    plt.xlabel('Classes')\n",
    "    plt.ylabel('Frequência')\n",
    "    plt.xticks(range(0,10))\n",
    "    plt.yticks(range(0, ymax, step))\n",
    "\n",
    "    plt.title(titleText)\n",
    "    #plt.grid(True, axis='y')\n",
    "\n",
    "    a = plt.hist(y_categorical, range=(-0.5, 9.5), bins=20, align='left', color='royalblue');\n",
    "    return a"
   ]
  },
  {
   "cell_type": "code",
   "execution_count": 4,
   "metadata": {},
   "outputs": [],
   "source": [
    "def plot_digit_images(X, Y_categorical, titlesText, Nimgs=5):\n",
    "    plt.figure(figsize=(15,4))\n",
    "    i = rn.randint(0, X.shape[0])\n",
    "\n",
    "    for index, (image, label) in enumerate(zip(X[i:i+Nimgs], Y_categorical[i:i+Nimgs])):\n",
    "        plt.subplot(1, Nimgs, index + 1)\n",
    "        X_image = np.transpose(np.reshape(image, (28, 28)))\n",
    "        plt.imshow(X_image, cmap='gray')\n",
    "        plt.title(titlesText + f'{label}\\n', fontsize = 12)"
   ]
  },
  {
   "cell_type": "code",
   "execution_count": 5,
   "metadata": {},
   "outputs": [],
   "source": [
    "path = '../EFC1/dataset/'\n",
    "\n",
    "data = scipy.io.loadmat(path + 'data.mat')\n",
    "test = scipy.io.loadmat(path + 'test.mat')\n",
    "\n",
    "X = data['X'] \n",
    "Y = data['S'] \n",
    "\n",
    "Xtest = test['Xt']\n",
    "Ytest = test['St']\n",
    "\n",
    "Y_categorical = np.array(tuple(map(onehot_to_categorical, Y)))\n",
    "Ytest_categorical = np.array(tuple(map(onehot_to_categorical, Ytest)))"
   ]
  },
  {
   "cell_type": "markdown",
   "metadata": {},
   "source": [
    "-------------------------------------------------------------\n",
    "### Definição do problema\n",
    "\n",
    "- O objetivo deste exercício consiste em sintetizar modelos lineares para classificação de padrões.\n",
    "- É utilizado o famoso *dataset* de imagens de dígitos manuscritos [MNIST](http://yann.lecun.com/exdb/mnist/), o qual contém 60.000 amostras para treinamento e 10.000 amostras para teste.\n",
    "- Cada imagem de entrada contém 784 pixels (no intervalo [0, 255], correspondente a níveis de cinza), visto que a dimensão de cada uma delas é de 28x28 pixels.\n",
    "- O problema de classificação investigado é do tipo multi-classe (10 classes), sendo que cada classe representa um dígito de 0 a 9."
   ]
  },
  {
   "cell_type": "markdown",
   "metadata": {},
   "source": [
    "-----------------------------------------------------------------\n",
    "### *Dataset*: Considerações e Análise"
   ]
  },
  {
   "cell_type": "markdown",
   "metadata": {},
   "source": [
    "- **Estrutura do** ***dataset*** **:**\n",
    "    - Os dados de treinamento estão contidos nas matrizes X (entradas) e Y (saídas).\n",
    "    \n",
    "    - Matriz X:\n",
    "        - Cada linha representa uma amostra de entrada (imagem).\n",
    "        - Cada coluna contém um pixel da amostra de entrada.\n",
    "        - A dimensão da matriz X é de 60.000x784 (Temos 60.000 amostras cada uma com 784 pixels).\n",
    "        \n",
    "    - Matriz Y:\n",
    "        - Cada linha representa a saída verdadeira correspondente a uma amostra de entrada.\n",
    "        - Cada saída está na representação *one-hot encoding*, isto é, só existe um elemento não nulo responsável por indicar a classe a qual a amostra pertence.\n",
    "        - Cada coluna representa uma classe:\n",
    "            - Colunas 0 a 8 representam as classes referentes aos dígitos 1 a 9, respectivamente.\n",
    "            - Coluna 9 representa a classe referente ao dígito 0.\n",
    "    \n",
    "    - As matrizes Xtest e Ytest do conjunto de teste possuem as mesmas características acima\n",
    "        - A dimensão da matriz Xtest é de 10.000x784 (Temos 10.000 amostras cada uma com 784 pixels\n",
    "        - A dimensão da matriz Ytest é de 10.000x10."
   ]
  },
  {
   "cell_type": "code",
   "execution_count": 6,
   "metadata": {},
   "outputs": [
    {
     "name": "stdout",
     "output_type": "stream",
     "text": [
      "Dimensão da matriz X: (60000, 784)\n",
      "Dimensão da matriz Y: (60000, 10)\n",
      "--------------------------------------\n",
      "Dimensão da matriz Xtest: (10000, 784)\n",
      "Dimensão da matriz Ytest: (10000, 10)\n"
     ]
    }
   ],
   "source": [
    "print(f'Dimensão da matriz X: {X.shape}')\n",
    "print(f'Dimensão da matriz Y: {Y.shape}')\n",
    "print('--------------------------------------')\n",
    "print(f'Dimensão da matriz Xtest: {Xtest.shape}')\n",
    "print(f'Dimensão da matriz Ytest: {Ytest.shape}')"
   ]
  },
  {
   "cell_type": "code",
   "execution_count": 7,
   "metadata": {},
   "outputs": [
    {
     "name": "stdout",
     "output_type": "stream",
     "text": [
      "Exemplo do conjunto de treinamento:\n",
      "Saída na representação one-hot encoding: [0 0 0 0 0 0 1 0 0 0]\n",
      "Saída na representação categórica: 7\n",
      "--------------------------------------------------------------\n",
      "Exemplo do conjunto de teste:\n",
      "Saída na representação one-hot encoding: [0 0 1 0 0 0 0 0 0 0]\n",
      "Saída na representação categórica: 3\n"
     ]
    }
   ],
   "source": [
    "n1 = rn.randint(0, Y.shape[0])\n",
    "n2 = rn.randint(0, Ytest.shape[0])\n",
    "\n",
    "print('Exemplo do conjunto de treinamento:')\n",
    "print(f'Saída na representação one-hot encoding: {Y[n1]}')\n",
    "print(f'Saída na representação categórica: {Y_categorical[n1]}')\n",
    "\n",
    "print('--------------------------------------------------------------')\n",
    "\n",
    "print('Exemplo do conjunto de teste:')\n",
    "print(f'Saída na representação one-hot encoding: {Ytest[n2]}')\n",
    "print(f'Saída na representação categórica: {Ytest_categorical[n2]}')"
   ]
  },
  {
   "cell_type": "markdown",
   "metadata": {},
   "source": [
    "- **Distribuição de frequências em função das classes (Histograma)**"
   ]
  },
  {
   "cell_type": "code",
   "execution_count": 8,
   "metadata": {},
   "outputs": [
    {
     "data": {
      "image/png": "[encoded data removed]",
      "text/plain": [
       "<Figure size 576x288 with 1 Axes>"
      ]
     },
     "metadata": {
      "needs_background": "light"
     },
     "output_type": "display_data"
    },
    {
     "data": {
      "image/png": "[encoded data removed]",
      "text/plain": [
       "<Figure size 576x288 with 1 Axes>"
      ]
     },
     "metadata": {
      "needs_background": "light"
     },
     "output_type": "display_data"
    }
   ],
   "source": [
    "plot_hist(Y_categorical, titleText='Distribuição de frequências para os dados de treinamento', ymax=10000, step=1000);\n",
    "plot_hist(Ytest_categorical, titleText='Distribuição de frequências para os dados de teste', ymax=1200, step=100);"
   ]
  },
  {
   "cell_type": "markdown",
   "metadata": {},
   "source": [
    "- **Visualização de imagens de dígitos manuscritos**"
   ]
  },
  {
   "cell_type": "code",
   "execution_count": 9,
   "metadata": {},
   "outputs": [
    {
     "data": {
      "image/png": "[encoded data removed]",
      "text/plain": [
       "<Figure size 1080x288 with 5 Axes>"
      ]
     },
     "metadata": {
      "needs_background": "light"
     },
     "output_type": "display_data"
    },
    {
     "data": {
      "image/png": "[encoded data removed]",
      "text/plain": [
       "<Figure size 1080x288 with 5 Axes>"
      ]
     },
     "metadata": {
      "needs_background": "light"
     },
     "output_type": "display_data"
    }
   ],
   "source": [
    "plot_digit_images(X, Y_categorical, titlesText='Dado de treinamento: ', Nimgs=5)\n",
    "plot_digit_images(Xtest, Ytest_categorical, titlesText='Dado de teste: ', Nimgs=5)"
   ]
  },
  {
   "cell_type": "markdown",
   "metadata": {},
   "source": [
    "-----------------------------------------------------------------\n",
    "### Conjuntos de treinamento e validação\n",
    "\n",
    "- **Validação cruzada**\n",
    "    - Para aumentar a **capacidade de generalização** do modelo, é utilizado a estratégia de validação cruzada conhecida por ***holdout***, em que dividimos as amostras de treinamento da seguinte forma:\n",
    "        - Conjunto de treinamento: 80% das amostras são utilizadas para treinar o modelo, gerando em um classificador.\n",
    "        - Conjunto de validação: 20% das amostras são utilizadas para validar o modelo gerado, isto é, são utilizadas na etapa de análise de desempenho."
   ]
  },
  {
   "cell_type": "code",
   "execution_count": 10,
   "metadata": {},
   "outputs": [],
   "source": [
    "Xtrain, Xval, Ytrain, Yval = train_test_split(X, Y, test_size=0.2, random_state=40)"
   ]
  },
  {
   "cell_type": "code",
   "execution_count": 11,
   "metadata": {},
   "outputs": [
    {
     "name": "stdout",
     "output_type": "stream",
     "text": [
      "Dimensão da matriz Xtrain: (48000, 784)\n",
      "Dimensão da matriz Ytrain: (48000, 10)\n",
      "--------------------------------------\n",
      "Dimensão da matriz Xval: (12000, 784)\n",
      "Dimensão da matriz Yval: (12000, 10)\n"
     ]
    }
   ],
   "source": [
    "print(f'Dimensão da matriz Xtrain: {Xtrain.shape}')\n",
    "print(f'Dimensão da matriz Ytrain: {Ytrain.shape}')\n",
    "print('--------------------------------------')\n",
    "print(f'Dimensão da matriz Xval: {Xval.shape}')\n",
    "print(f'Dimensão da matriz Yval: {Yval.shape}')"
   ]
  },
  {
   "cell_type": "markdown",
   "metadata": {},
   "source": [
    "- **Dados balanceados e representativos**\n",
    "    - Uma importante característica que devemos manter nos dois novos conjuntos é o **balanceamento das classes**, para que os dados utilizados tanto no conjunto de treinamento quanto no de validação sejam **representativos** do problema. Para isso, podemos observar as distribuições de frequência dos dois conjuntos.\n",
    "    - Como pode ser observado nos resultados abaixo, a proporção de dados por classe em ambos os conjuntos está em um valor adequado."
   ]
  },
  {
   "cell_type": "code",
   "execution_count": 12,
   "metadata": {},
   "outputs": [],
   "source": [
    "Ytrain_categorical = np.array(tuple(map(onehot_to_categorical, Ytrain)))\n",
    "Yval_categorical = np.array(tuple(map(onehot_to_categorical, Yval)))"
   ]
  },
  {
   "cell_type": "code",
   "execution_count": 13,
   "metadata": {},
   "outputs": [
    {
     "name": "stdout",
     "output_type": "stream",
     "text": [
      "Representação das classes no conjunto de treinamento:\n",
      "Classe 0:  9.88%\n",
      "Classe 1:  11.23%\n",
      "Classe 2:  9.88%\n",
      "Classe 3:  10.19%\n",
      "Classe 4:  9.74%\n",
      "Classe 5:  9.16%\n",
      "Classe 6:  9.87%\n",
      "Classe 7:  10.41%\n",
      "Classe 8:  9.81%\n",
      "Classe 9:  9.82%\n"
     ]
    },
    {
     "data": {
      "image/png": "[encoded data removed]",
      "text/plain": [
       "<Figure size 576x288 with 1 Axes>"
      ]
     },
     "metadata": {
      "needs_background": "light"
     },
     "output_type": "display_data"
    }
   ],
   "source": [
    "aux_train = plot_hist(Ytrain_categorical, titleText='Distribuição de frequências para os dados de treinamento', ymax=10000, step=1000)\n",
    "\n",
    "aux = aux_train[0]\n",
    "aux = aux[1:len(aux):2]\n",
    "aux = aux*100/Xtrain.shape[0]\n",
    "print('Representação das classes no conjunto de treinamento:')\n",
    "for i in range(len(aux)):\n",
    "    print(f'Classe {i}:  {round(aux[i],2)}%')"
   ]
  },
  {
   "cell_type": "code",
   "execution_count": 14,
   "metadata": {},
   "outputs": [
    {
     "name": "stdout",
     "output_type": "stream",
     "text": [
      "Representação das classes no conjunto de treinamento:\n",
      "Classe 0:  9.82%\n",
      "Classe 1:  11.26%\n",
      "Classe 2:  10.12%\n",
      "Classe 3:  10.32%\n",
      "Classe 4:  9.73%\n",
      "Classe 5:  8.52%\n",
      "Classe 6:  9.83%\n",
      "Classe 7:  10.57%\n",
      "Classe 8:  9.53%\n",
      "Classe 9:  10.28%\n"
     ]
    },
    {
     "data": {
      "image/png": "[encoded data removed]",
      "text/plain": [
       "<Figure size 576x288 with 1 Axes>"
      ]
     },
     "metadata": {
      "needs_background": "light"
     },
     "output_type": "display_data"
    }
   ],
   "source": [
    "aux_val = plot_hist(Yval_categorical, titleText='Distribuição de frequências para os dados de validação', ymax=1500, step=100);\n",
    "\n",
    "aux = aux_val[0]\n",
    "aux = aux[1:len(aux):2]\n",
    "aux = aux*100/Xval.shape[0]\n",
    "print('Representação das classes no conjunto de treinamento:')\n",
    "for i in range(len(aux)):\n",
    "    print(f'Classe {i}:  {round(aux[i],2)}%', )"
   ]
  }
 ],
 "metadata": {
  "kernelspec": {
   "display_name": "Python 3",
   "language": "python",
   "name": "python3"
  },
  "language_info": {
   "codemirror_mode": {
    "name": "ipython",
    "version": 3
   },
   "file_extension": ".py",
   "mimetype": "text/x-python",
   "name": "python",
   "nbconvert_exporter": "python",
   "pygments_lexer": "ipython3",
   "version": "3.8.1"
  }
 },
 "nbformat": 4,
 "nbformat_minor": 4
}
