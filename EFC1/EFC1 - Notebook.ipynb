{
 "cells": [
  {
   "cell_type": "markdown",
   "metadata": {},
   "source": [
    "# Exercícios de Fixação de Conceitos 1\n",
    "\n",
    "### Índice\n",
    "- Definição do problema de classificação</p>\n",
    "- *Dataset*: consideraçõs e análise</p>\n",
    "    - Estrutura do *dataset*\n",
    "    - Representações *one-hot encoding* e categórica\n",
    "    - Distribuição de frequências em função das classes (Histograma)\n",
    "    - Visualização de imagens de dígitos manuscritos\n",
    "- Conjuntos de treinamento e validação\n",
    "- Classificador Linear\n",
    "    - Modelo regularizado\n",
    "    - Cálculo do erro quadrático médio\n",
    "    - Cálculo do erro de classificação\n",
    "    - Algoritmo para resolução do problema\n",
    "- Resultados\n",
    "    - Gráficos semilog do desempenho dos classificadores junto aos dados de validação para os 11 valores de coeficientes de regularização sugeridos\n",
    "        - Desempenho baseado no erro quadrático médio\n",
    "        - Desempenho baseado no erro de classificação\n",
    "    - Gráficos semilog com uma busca refinida no entorno do mínimo dos gráficos anteriores\n",
    "        - Desempenho baseado no erro quadrático médio\n",
    "        - Desempenho baseado no erro de classificação\n",
    "    - Valores dos 4 coeficientes de regularização encontrados na busca\n",
    "    - Para o melhor classificador considerando o desempenho baseado no erro de classificação:\n",
    "        - Obter a matriz de parâmetros do modelo\n",
    "        - Gerar um gráfico de calor para cada um dos 10 classificadores lineares contidos no modelo\n",
    "        - Matriz de confusão\n",
    "        - Exemplos de dígitos classificados incorretamente"
   ]
  },
  {
   "cell_type": "markdown",
   "metadata": {},
   "source": [
    "### Definição do problema\n",
    "\n",
    "- O objetivo deste exercício consiste em sintetizar modelos lineares para classificação de padrões.\n",
    "- É utilizado o famoso *dataset* de imagens de dígitos manuscritos [MNIST](http://yann.lecun.com/exdb/mnist/), o qual contém 60.000 amostras para treinamento e 10.000 amostras para teste.\n",
    "- Cada imagem de entrada contém 784 pixels (no intervalo [0, 255], correspondente a níveis de cinza), visto que a dimensão é de 28x28 pixels.\n",
    "- O problema de classificação investigado é do tipo multi-classe (10 classes), sendo que cada classe representa um dígito de 0 a 9."
   ]
  },
  {
   "cell_type": "markdown",
   "metadata": {},
   "source": [
    "### *Dataset*: considerações e análise\n",
    "- Vamos compreender melhor a natureza dos dados."
   ]
  },
  {
   "cell_type": "code",
   "execution_count": 15,
   "metadata": {},
   "outputs": [],
   "source": [
    "import scipy.io\n",
    "import numpy as np\n",
    "import matplotlib.pyplot as plt\n",
    "import random as rn\n",
    "from sklearn.model_selection import train_test_split"
   ]
  },
  {
   "cell_type": "code",
   "execution_count": 16,
   "metadata": {},
   "outputs": [],
   "source": [
    "a = range(0,101)"
   ]
  },
  {
   "cell_type": "code",
   "execution_count": 39,
   "metadata": {},
   "outputs": [
    {
     "name": "stdout",
     "output_type": "stream",
     "text": [
      "True\n",
      "26\n",
      "[[40, 72, 9, 96, 11, 91, 64, 28, 83, 5, 47, 53, 35, 16, 81, 34, 7, 43, 73, 27, 19, 94, 25, 62, 49, 13, 24, 3, 17, 38, 8, 79, 6, 65, 36, 88, 56, 100, 54, 50, 68, 46, 69, 61, 98, 80, 41, 58, 48, 90, 57, 75, 32, 95, 59, 63, 85, 37, 29, 1, 52, 21, 2, 23, 87, 99, 74, 86, 82, 20, 60, 71, 14, 92, 51], [84, 55, 66, 67, 45, 39, 22, 44, 10, 0, 18, 30, 97, 33, 77, 4, 93, 78, 12, 31, 76, 89, 26, 42, 70, 15]]\n"
     ]
    }
   ],
   "source": [
    "b = train_test_split(a, test_size=0.25, random_state=42)"
   ]
  }
 ],
 "metadata": {
  "kernelspec": {
   "display_name": "Python 3",
   "language": "python",
   "name": "python3"
  },
  "language_info": {
   "codemirror_mode": {
    "name": "ipython",
    "version": 3
   },
   "file_extension": ".py",
   "mimetype": "text/x-python",
   "name": "python",
   "nbconvert_exporter": "python",
   "pygments_lexer": "ipython3",
   "version": "3.8.1"
  }
 },
 "nbformat": 4,
 "nbformat_minor": 4
}
